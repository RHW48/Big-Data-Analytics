{
  "nbformat": 4,
  "nbformat_minor": 0,
  "metadata": {
    "colab": {
      "provenance": []
    },
    "kernelspec": {
      "name": "python3",
      "display_name": "Python 3"
    },
    "language_info": {
      "name": "python"
    }
  },
  "cells": [
    {
      "cell_type": "code",
      "source": [
        "# Attempt to import PySpark\n",
        "try:\n",
        "    import pyspark\n",
        "    print(\"PySpark already installed\")\n",
        "except ImportError:\n",
        "    print(\"Installing Pyspark...\")\n",
        "    !pip install pyspark --quiet\n",
        "    import pyspark"
      ],
      "metadata": {
        "colab": {
          "base_uri": "https://localhost:8080/"
        },
        "id": "JjYb6y4HqBKS",
        "outputId": "44ef840d-f9a9-43c2-c7e5-2ad8331f17e8"
      },
      "execution_count": 1,
      "outputs": [
        {
          "output_type": "stream",
          "name": "stdout",
          "text": [
            "Installing Pyspark...\n",
            "\u001b[2K     \u001b[90m━━━━━━━━━━━━━━━━━━━━━━━━━━━━━━━━━━━━━━━━\u001b[0m \u001b[32m317.0/317.0 MB\u001b[0m \u001b[31m3.4 MB/s\u001b[0m eta \u001b[36m0:00:00\u001b[0m\n",
            "\u001b[?25h  Preparing metadata (setup.py) ... \u001b[?25l\u001b[?25hdone\n",
            "  Building wheel for pyspark (setup.py) ... \u001b[?25l\u001b[?25hdone\n"
          ]
        }
      ]
    },
    {
      "cell_type": "code",
      "source": [
        "# Import necessary libraries\n",
        "import pandas as pd\n",
        "import re\n",
        "from pyspark.sql import SparkSession\n",
        "from pyspark.sql.functions import udf\n",
        "from pyspark.sql.types import StringType\n",
        "from pyspark.ml.feature import VectorAssembler, StringIndexer, OneHotEncoder\n",
        "from pyspark.ml import Pipeline\n",
        "from pyspark.ml.classification import LogisticRegression\n",
        "from pyspark.ml.evaluation import BinaryClassificationEvaluator"
      ],
      "metadata": {
        "id": "aI-WZSj1qws0"
      },
      "execution_count": 2,
      "outputs": []
    },
    {
      "cell_type": "code",
      "source": [
        "# Function to extract titles from names\n",
        "def extract_title(name):\n",
        "    title_search = re.search(' ([A-Za-z]+)\\.', name)\n",
        "    if title_search:\n",
        "        return title_search.group(1)\n",
        "    return \"\""
      ],
      "metadata": {
        "id": "RifgJHL3q5Ds"
      },
      "execution_count": 3,
      "outputs": []
    },
    {
      "cell_type": "code",
      "source": [
        "# Load csv from lin source\n",
        "url = \"https://raw.githubusercontent.com/datasciencedojo/datasets/master/titanic.csv\"\n",
        "data = pd.read_csv(url)\n",
        "data.to_csv('titanic.csv', index=False)"
      ],
      "metadata": {
        "id": "TL1pyIoi0nDi"
      },
      "execution_count": 4,
      "outputs": []
    },
    {
      "cell_type": "code",
      "source": [
        "# Start Spark session\n",
        "spark = SparkSession.builder.appName('Titanic').getOrCreate()\n",
        "\n",
        "# Load the CSV file into a Spark DataFrame\n",
        "df = spark.read.csv('titanic.csv', inferSchema=True, header=True)\n",
        "\n",
        "# Register a User Defined Function (UDF) to extract titles\n",
        "extract_title_udf = udf(extract_title, StringType())\n",
        "\n",
        "# Add a new column 'Gelar' (title) to the DataFrame\n",
        "df = df.withColumn('Gelar', extract_title_udf(df['Name']))\n",
        "\n",
        "# Display the DataFrame\n",
        "df.show()"
      ],
      "metadata": {
        "colab": {
          "base_uri": "https://localhost:8080/"
        },
        "id": "3LMJelce0pgw",
        "outputId": "abd85641-a5d1-44c5-af5b-5104f7d9c198"
      },
      "execution_count": 5,
      "outputs": [
        {
          "output_type": "stream",
          "name": "stdout",
          "text": [
            "+-----------+--------+------+--------------------+------+----+-----+-----+----------------+-------+-----+--------+------+\n",
            "|PassengerId|Survived|Pclass|                Name|   Sex| Age|SibSp|Parch|          Ticket|   Fare|Cabin|Embarked| Gelar|\n",
            "+-----------+--------+------+--------------------+------+----+-----+-----+----------------+-------+-----+--------+------+\n",
            "|          1|       0|     3|Braund, Mr. Owen ...|  male|22.0|    1|    0|       A/5 21171|   7.25| NULL|       S|    Mr|\n",
            "|          2|       1|     1|Cumings, Mrs. Joh...|female|38.0|    1|    0|        PC 17599|71.2833|  C85|       C|   Mrs|\n",
            "|          3|       1|     3|Heikkinen, Miss. ...|female|26.0|    0|    0|STON/O2. 3101282|  7.925| NULL|       S|  Miss|\n",
            "|          4|       1|     1|Futrelle, Mrs. Ja...|female|35.0|    1|    0|          113803|   53.1| C123|       S|   Mrs|\n",
            "|          5|       0|     3|Allen, Mr. Willia...|  male|35.0|    0|    0|          373450|   8.05| NULL|       S|    Mr|\n",
            "|          6|       0|     3|    Moran, Mr. James|  male|NULL|    0|    0|          330877| 8.4583| NULL|       Q|    Mr|\n",
            "|          7|       0|     1|McCarthy, Mr. Tim...|  male|54.0|    0|    0|           17463|51.8625|  E46|       S|    Mr|\n",
            "|          8|       0|     3|Palsson, Master. ...|  male| 2.0|    3|    1|          349909| 21.075| NULL|       S|Master|\n",
            "|          9|       1|     3|Johnson, Mrs. Osc...|female|27.0|    0|    2|          347742|11.1333| NULL|       S|   Mrs|\n",
            "|         10|       1|     2|Nasser, Mrs. Nich...|female|14.0|    1|    0|          237736|30.0708| NULL|       C|   Mrs|\n",
            "|         11|       1|     3|Sandstrom, Miss. ...|female| 4.0|    1|    1|         PP 9549|   16.7|   G6|       S|  Miss|\n",
            "|         12|       1|     1|Bonnell, Miss. El...|female|58.0|    0|    0|          113783|  26.55| C103|       S|  Miss|\n",
            "|         13|       0|     3|Saundercock, Mr. ...|  male|20.0|    0|    0|       A/5. 2151|   8.05| NULL|       S|    Mr|\n",
            "|         14|       0|     3|Andersson, Mr. An...|  male|39.0|    1|    5|          347082| 31.275| NULL|       S|    Mr|\n",
            "|         15|       0|     3|Vestrom, Miss. Hu...|female|14.0|    0|    0|          350406| 7.8542| NULL|       S|  Miss|\n",
            "|         16|       1|     2|Hewlett, Mrs. (Ma...|female|55.0|    0|    0|          248706|   16.0| NULL|       S|   Mrs|\n",
            "|         17|       0|     3|Rice, Master. Eugene|  male| 2.0|    4|    1|          382652| 29.125| NULL|       Q|Master|\n",
            "|         18|       1|     2|Williams, Mr. Cha...|  male|NULL|    0|    0|          244373|   13.0| NULL|       S|    Mr|\n",
            "|         19|       0|     3|Vander Planke, Mr...|female|31.0|    1|    0|          345763|   18.0| NULL|       S|   Mrs|\n",
            "|         20|       1|     3|Masselmani, Mrs. ...|female|NULL|    0|    0|            2649|  7.225| NULL|       C|   Mrs|\n",
            "+-----------+--------+------+--------------------+------+----+-----+-----+----------------+-------+-----+--------+------+\n",
            "only showing top 20 rows\n",
            "\n"
          ]
        }
      ]
    },
    {
      "cell_type": "code",
      "source": [
        "# Columns selection\n",
        "rm_columns = df.select(['Survived','Pclass','Sex','Age','SibSp','Parch','Fare','Embarked','Gelar'])\n",
        "\n",
        "# Drop rows with null values\n",
        "result = rm_columns.na.drop()\n",
        "\n",
        "# Showing the data again\n",
        "result.show()"
      ],
      "metadata": {
        "colab": {
          "base_uri": "https://localhost:8080/"
        },
        "id": "_9M-knzwsChc",
        "outputId": "8011224a-1837-430c-bb90-363df6b1a4b0"
      },
      "execution_count": 6,
      "outputs": [
        {
          "output_type": "stream",
          "name": "stdout",
          "text": [
            "+--------+------+------+----+-----+-----+-------+--------+------+\n",
            "|Survived|Pclass|   Sex| Age|SibSp|Parch|   Fare|Embarked| Gelar|\n",
            "+--------+------+------+----+-----+-----+-------+--------+------+\n",
            "|       0|     3|  male|22.0|    1|    0|   7.25|       S|    Mr|\n",
            "|       1|     1|female|38.0|    1|    0|71.2833|       C|   Mrs|\n",
            "|       1|     3|female|26.0|    0|    0|  7.925|       S|  Miss|\n",
            "|       1|     1|female|35.0|    1|    0|   53.1|       S|   Mrs|\n",
            "|       0|     3|  male|35.0|    0|    0|   8.05|       S|    Mr|\n",
            "|       0|     1|  male|54.0|    0|    0|51.8625|       S|    Mr|\n",
            "|       0|     3|  male| 2.0|    3|    1| 21.075|       S|Master|\n",
            "|       1|     3|female|27.0|    0|    2|11.1333|       S|   Mrs|\n",
            "|       1|     2|female|14.0|    1|    0|30.0708|       C|   Mrs|\n",
            "|       1|     3|female| 4.0|    1|    1|   16.7|       S|  Miss|\n",
            "|       1|     1|female|58.0|    0|    0|  26.55|       S|  Miss|\n",
            "|       0|     3|  male|20.0|    0|    0|   8.05|       S|    Mr|\n",
            "|       0|     3|  male|39.0|    1|    5| 31.275|       S|    Mr|\n",
            "|       0|     3|female|14.0|    0|    0| 7.8542|       S|  Miss|\n",
            "|       1|     2|female|55.0|    0|    0|   16.0|       S|   Mrs|\n",
            "|       0|     3|  male| 2.0|    4|    1| 29.125|       Q|Master|\n",
            "|       0|     3|female|31.0|    1|    0|   18.0|       S|   Mrs|\n",
            "|       0|     2|  male|35.0|    0|    0|   26.0|       S|    Mr|\n",
            "|       1|     2|  male|34.0|    0|    0|   13.0|       S|    Mr|\n",
            "|       1|     3|female|15.0|    0|    0| 8.0292|       Q|  Miss|\n",
            "+--------+------+------+----+-----+-----+-------+--------+------+\n",
            "only showing top 20 rows\n",
            "\n"
          ]
        }
      ]
    },
    {
      "cell_type": "code",
      "source": [
        "# String indexing and one-hot encoding for categorical columns\n",
        "sex_indexer = StringIndexer(inputCol='Sex', outputCol='SexIndex', handleInvalid='keep')\n",
        "sex_encoder = OneHotEncoder(inputCol='SexIndex', outputCol='SexVec')\n",
        "\n",
        "embark_indexer = StringIndexer(inputCol='Embarked', outputCol='EmbarkIndex', handleInvalid='keep')\n",
        "embark_encoder = OneHotEncoder(inputCol='EmbarkIndex', outputCol='EmbarkVec')\n",
        "\n",
        "title_indexer = StringIndexer(inputCol='Gelar', outputCol='GelarIndex', handleInvalid='keep')\n",
        "title_encoder = OneHotEncoder(inputCol='GelarIndex', outputCol='GelarVec')"
      ],
      "metadata": {
        "id": "M1weQYi3tH9w"
      },
      "execution_count": 7,
      "outputs": []
    },
    {
      "cell_type": "code",
      "source": [
        "# Assemble feature columns into a single vector\n",
        "assembler = VectorAssembler(\n",
        "    inputCols=['Pclass', 'SexVec', 'Age', 'SibSp', 'Parch', 'Fare', 'EmbarkVec', 'GelarVec'],\n",
        "    outputCol='features',\n",
        "    handleInvalid='keep'\n",
        ")"
      ],
      "metadata": {
        "id": "M-4okpAQ1kGj"
      },
      "execution_count": 8,
      "outputs": []
    },
    {
      "cell_type": "code",
      "source": [
        "# Define Logistic Regression\n",
        "log_reg = LogisticRegression(featuresCol='features', labelCol='Survived')\n",
        "\n",
        "# Create a Pipeline with the defined stages\n",
        "pipeline = Pipeline(stages=[sex_indexer, embark_indexer, title_indexer, sex_encoder, embark_encoder, title_encoder, assembler, log_reg])"
      ],
      "metadata": {
        "id": "-fyeyjvruX3p"
      },
      "execution_count": 25,
      "outputs": []
    },
    {
      "cell_type": "code",
      "source": [
        "# Split the data into training and testing sets\n",
        "train_data, test_data = result.randomSplit([0.7, 0.3])"
      ],
      "metadata": {
        "id": "yzqc5nN3ucop"
      },
      "execution_count": 26,
      "outputs": []
    },
    {
      "cell_type": "code",
      "source": [
        "# Train the model using the pipeline\n",
        "fit_model = pipeline.fit(train_data)"
      ],
      "metadata": {
        "id": "eC_reAYDurnN"
      },
      "execution_count": 27,
      "outputs": []
    },
    {
      "cell_type": "code",
      "source": [
        "# Testing dataset\n",
        "results = fit_model.transform(test_data)"
      ],
      "metadata": {
        "id": "xvohVByZtQbR"
      },
      "execution_count": 28,
      "outputs": []
    },
    {
      "cell_type": "code",
      "source": [
        "# Display the predictions\n",
        "results.show()"
      ],
      "metadata": {
        "colab": {
          "base_uri": "https://localhost:8080/"
        },
        "id": "ECx5I_S1vZsa",
        "outputId": "4b7cb544-2801-4986-c1d3-c2b97b16750f"
      },
      "execution_count": 29,
      "outputs": [
        {
          "output_type": "stream",
          "name": "stdout",
          "text": [
            "+--------+------+------+----+-----+-----+--------+--------+-----+--------+-----------+----------+-------------+-------------+--------------+--------------------+--------------------+--------------------+----------+\n",
            "|Survived|Pclass|   Sex| Age|SibSp|Parch|    Fare|Embarked|Gelar|SexIndex|EmbarkIndex|GelarIndex|       SexVec|    EmbarkVec|      GelarVec|            features|       rawPrediction|         probability|prediction|\n",
            "+--------+------+------+----+-----+-----+--------+--------+-----+--------+-----------+----------+-------------+-------------+--------------+--------------------+--------------------+--------------------+----------+\n",
            "|       0|     1|female| 2.0|    1|    2|  151.55|       S| Miss|     1.0|        0.0|       1.0|(2,[1],[1.0])|(3,[0],[1.0])|(15,[1],[1.0])|(25,[0,2,3,4,5,6,...|[-2.9632569912178...|[0.04911367606714...|       1.0|\n",
            "|       0|     1|  male|22.0|    0|    0|135.6333|       C|   Mr|     0.0|        1.0|       0.0|(2,[0],[1.0])|(3,[1],[1.0])|(15,[0],[1.0])|(25,[0,1,3,6,8,10...|[-1.1156350278279...|[0.24682183840674...|       1.0|\n",
            "|       0|     1|  male|27.0|    0|    2|   211.5|       C|   Mr|     0.0|        1.0|       0.0|(2,[0],[1.0])|(3,[1],[1.0])|(15,[0],[1.0])|(25,[0,1,3,5,6,8,...|[-0.9989792169420...|[0.26914216683097...|       1.0|\n",
            "|       0|     1|  male|33.0|    0|    0|     5.0|       S|   Mr|     0.0|        0.0|       0.0|(2,[0],[1.0])|(3,[0],[1.0])|(15,[0],[1.0])|(25,[0,1,3,6,7,10...|[0.45549764449460...|[0.61194555032234...|       0.0|\n",
            "|       0|     1|  male|38.0|    0|    1|153.4625|       S|   Mr|     0.0|        0.0|       0.0|(2,[0],[1.0])|(3,[0],[1.0])|(15,[0],[1.0])|(25,[0,1,3,5,6,7,...|[-0.1461877907399...|[0.46351800019210...|       1.0|\n",
            "|       0|     1|  male|39.0|    0|    0|     0.0|       S|   Mr|     0.0|        0.0|       0.0|(2,[0],[1.0])|(3,[0],[1.0])|(15,[0],[1.0])|(25,[0,1,3,7,10],...|[0.66542307980601...|[0.66047755387780...|       0.0|\n",
            "|       0|     1|  male|46.0|    0|    0|    79.2|       C|   Mr|     0.0|        1.0|       0.0|(2,[0],[1.0])|(3,[1],[1.0])|(15,[0],[1.0])|(25,[0,1,3,6,8,10...|[-0.0341017857003...|[0.49147537968822...|       1.0|\n",
            "|       0|     1|  male|46.0|    1|    0|  61.175|       S|   Mr|     0.0|        0.0|       0.0|(2,[0],[1.0])|(3,[0],[1.0])|(15,[0],[1.0])|(25,[0,1,3,4,6,7,...|[1.26162051299839...|[0.77930494392704...|       0.0|\n",
            "|       0|     1|  male|47.0|    0|    0| 34.0208|       S|   Mr|     0.0|        0.0|       0.0|(2,[0],[1.0])|(3,[0],[1.0])|(15,[0],[1.0])|(25,[0,1,3,6,7,10...|[0.67525448913093...|[0.66267872691368...|       0.0|\n",
            "|       0|     1|  male|50.0|    1|    0| 106.425|       C|   Mr|     0.0|        1.0|       0.0|(2,[0],[1.0])|(3,[1],[1.0])|(15,[0],[1.0])|(25,[0,1,3,4,6,8,...|[0.69907527947652...|[0.66798271784710...|       0.0|\n",
            "|       0|     1|  male|52.0|    1|    1|   79.65|       S|   Mr|     0.0|        0.0|       0.0|(2,[0],[1.0])|(3,[0],[1.0])|(15,[0],[1.0])|(25,[0,1,3,4,5,6,...|[1.55220282999085...|[0.82523166124157...|       0.0|\n",
            "|       0|     1|  male|58.0|    0|    2| 113.275|       C|   Mr|     0.0|        1.0|       0.0|(2,[0],[1.0])|(3,[1],[1.0])|(15,[0],[1.0])|(25,[0,1,3,5,6,8,...|[0.56614609259774...|[0.63787343141217...|       0.0|\n",
            "|       0|     1|  male|60.0|    0|    0|   26.55|       S|  Col|     0.0|        0.0|       7.0|(2,[0],[1.0])|(3,[0],[1.0])|(15,[7],[1.0])|(25,[0,1,3,6,7,17...|[-124.78023456138...|[6.43624665902153...|       1.0|\n",
            "|       0|     1|  male|61.0|    0|    0|    33.5|       S|   Mr|     0.0|        0.0|       0.0|(2,[0],[1.0])|(3,[0],[1.0])|(15,[0],[1.0])|(25,[0,1,3,6,7,10...|[1.09109814079417...|[0.74858845227065...|       0.0|\n",
            "|       0|     1|  male|65.0|    0|    0|   26.55|       S|   Mr|     0.0|        0.0|       0.0|(2,[0],[1.0])|(3,[0],[1.0])|(15,[0],[1.0])|(25,[0,1,3,6,7,10...|[1.25505459921025...|[0.77817360995309...|       0.0|\n",
            "|       0|     1|  male|70.0|    1|    1|    71.0|       S| Capt|     0.0|        0.0|      15.0|(2,[0],[1.0])|(3,[0],[1.0])|    (15,[],[])|(25,[0,1,3,4,5,6,...|[10.8466415520083...|[0.99998053049225...|       0.0|\n",
            "|       0|     1|  male|71.0|    0|    0| 34.6542|       C|   Mr|     0.0|        1.0|       0.0|(2,[0],[1.0])|(3,[1],[1.0])|(15,[0],[1.0])|(25,[0,1,3,6,8,10...|[0.99798258711221...|[0.73066174633695...|       0.0|\n",
            "|       0|     2|female|27.0|    1|    0|    21.0|       S|  Mrs|     1.0|        0.0|       2.0|(2,[1],[1.0])|(3,[0],[1.0])|(15,[2],[1.0])|(25,[0,2,3,4,6,7,...|[-1.7212387048290...|[0.15171167944894...|       1.0|\n",
            "|       0|     2|female|57.0|    0|    0|    10.5|       S|  Mrs|     1.0|        0.0|       2.0|(2,[1],[1.0])|(3,[0],[1.0])|(15,[2],[1.0])|(25,[0,2,3,6,7,12...|[-1.5639197583177...|[0.17308490653438...|       1.0|\n",
            "|       0|     2|  male|18.0|    0|    0|    11.5|       S|   Mr|     0.0|        0.0|       0.0|(2,[0],[1.0])|(3,[0],[1.0])|(15,[0],[1.0])|(25,[0,1,3,6,7,10...|[0.96318127590769...|[0.72375829723486...|       0.0|\n",
            "+--------+------+------+----+-----+-----+--------+--------+-----+--------+-----------+----------+-------------+-------------+--------------+--------------------+--------------------+--------------------+----------+\n",
            "only showing top 20 rows\n",
            "\n"
          ]
        }
      ]
    },
    {
      "cell_type": "code",
      "source": [
        "# Select and display the relevant prediction columns\n",
        "results.select('Survived', 'prediction', 'probability').show()"
      ],
      "metadata": {
        "colab": {
          "base_uri": "https://localhost:8080/"
        },
        "id": "aKNRmRpmu4xi",
        "outputId": "e2d91dc8-93d2-4a6d-c2d2-c9bc083a17b3"
      },
      "execution_count": 30,
      "outputs": [
        {
          "output_type": "stream",
          "name": "stdout",
          "text": [
            "+--------+----------+--------------------+\n",
            "|Survived|prediction|         probability|\n",
            "+--------+----------+--------------------+\n",
            "|       0|       1.0|[0.04911367606714...|\n",
            "|       0|       1.0|[0.24682183840674...|\n",
            "|       0|       1.0|[0.26914216683097...|\n",
            "|       0|       0.0|[0.61194555032234...|\n",
            "|       0|       1.0|[0.46351800019210...|\n",
            "|       0|       0.0|[0.66047755387780...|\n",
            "|       0|       1.0|[0.49147537968822...|\n",
            "|       0|       0.0|[0.77930494392704...|\n",
            "|       0|       0.0|[0.66267872691368...|\n",
            "|       0|       0.0|[0.66798271784710...|\n",
            "|       0|       0.0|[0.82523166124157...|\n",
            "|       0|       0.0|[0.63787343141217...|\n",
            "|       0|       1.0|[6.43624665902153...|\n",
            "|       0|       0.0|[0.74858845227065...|\n",
            "|       0|       0.0|[0.77817360995309...|\n",
            "|       0|       0.0|[0.99998053049225...|\n",
            "|       0|       0.0|[0.73066174633695...|\n",
            "|       0|       1.0|[0.15171167944894...|\n",
            "|       0|       1.0|[0.17308490653438...|\n",
            "|       0|       0.0|[0.72375829723486...|\n",
            "+--------+----------+--------------------+\n",
            "only showing top 20 rows\n",
            "\n"
          ]
        }
      ]
    },
    {
      "cell_type": "code",
      "source": [
        "# Define Binary Classification Evaluator\n",
        "evaluator  = BinaryClassificationEvaluator(rawPredictionCol='prediction', labelCol='Survived')"
      ],
      "metadata": {
        "id": "ZLq0-B89vhbC"
      },
      "execution_count": 31,
      "outputs": []
    },
    {
      "cell_type": "code",
      "source": [
        "# Calculate and display the ROC AUC metric\n",
        "ROC_AUC = evaluator.evaluate(results)\n",
        "print(f\"ROC AUC: {ROC_AUC}\")"
      ],
      "metadata": {
        "colab": {
          "base_uri": "https://localhost:8080/"
        },
        "id": "0cQpwJ3wvoZw",
        "outputId": "808d3ffd-2c9a-4962-f251-f5c985c1aef1"
      },
      "execution_count": 32,
      "outputs": [
        {
          "output_type": "stream",
          "name": "stdout",
          "text": [
            "ROC AUC: 0.8068456966762051\n"
          ]
        }
      ]
    }
  ]
}